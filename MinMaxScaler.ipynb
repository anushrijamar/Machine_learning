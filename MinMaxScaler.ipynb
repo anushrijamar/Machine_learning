{
  "nbformat": 4,
  "nbformat_minor": 0,
  "metadata": {
    "colab": {
      "provenance": [],
      "authorship_tag": "ABX9TyPMi8pqST99B0bVXpWmPnSw",
      "include_colab_link": true
    },
    "kernelspec": {
      "name": "python3",
      "display_name": "Python 3"
    },
    "language_info": {
      "name": "python"
    }
  },
  "cells": [
    {
      "cell_type": "markdown",
      "metadata": {
        "id": "view-in-github",
        "colab_type": "text"
      },
      "source": [
        "<a href=\"https://colab.research.google.com/github/anushrijamar/Machine_learning/blob/main/MinMaxScaler.ipynb\" target=\"_parent\"><img src=\"https://colab.research.google.com/assets/colab-badge.svg\" alt=\"Open In Colab\"/></a>"
      ]
    },
    {
      "cell_type": "code",
      "execution_count": 1,
      "metadata": {
        "id": "Th79D3wZPkgs"
      },
      "outputs": [],
      "source": [
        "from sklearn.preprocessing import MinMaxScaler #default values range=(0,1)  copy=true clip=false"
      ]
    },
    {
      "cell_type": "code",
      "source": [
        "data=[[1,8],[3,4],[5,6],[7,12]]\n",
        "print(data)"
      ],
      "metadata": {
        "colab": {
          "base_uri": "https://localhost:8080/"
        },
        "id": "ZbyAJxfTQGPM",
        "outputId": "1093c87c-02fe-43c6-eb10-32f229734d31"
      },
      "execution_count": 2,
      "outputs": [
        {
          "output_type": "stream",
          "name": "stdout",
          "text": [
            "[[1, 8], [3, 4], [5, 6], [7, 12]]\n"
          ]
        }
      ]
    },
    {
      "cell_type": "code",
      "source": [
        "scaler = MinMaxScaler()\n",
        "scaler.fit(data)\n",
        "print(scaler.data_min_)\n",
        "print(scaler.data_max_)\n",
        "# print(\"Max is \",scaler.feature_range[1])\n",
        "# print(\"Min is \",scaler.feature_range[0])"
      ],
      "metadata": {
        "colab": {
          "base_uri": "https://localhost:8080/"
        },
        "id": "C9rFWOmgQNoj",
        "outputId": "dcf86634-f8f7-423e-dbf5-51635fa0d0c5"
      },
      "execution_count": 3,
      "outputs": [
        {
          "output_type": "stream",
          "name": "stdout",
          "text": [
            "[1. 4.]\n",
            "[ 7. 12.]\n"
          ]
        }
      ]
    },
    {
      "cell_type": "code",
      "source": [
        "print(scaler.fit(data))"
      ],
      "metadata": {
        "colab": {
          "base_uri": "https://localhost:8080/"
        },
        "id": "cAufisibQsm1",
        "outputId": "31ea846a-a64a-433a-f68f-ced74dcc0ff4"
      },
      "execution_count": 4,
      "outputs": [
        {
          "output_type": "stream",
          "name": "stdout",
          "text": [
            "MinMaxScaler()\n"
          ]
        }
      ]
    },
    {
      "cell_type": "code",
      "source": [
        "sd=scaler.transform(data)\n",
        "print(sd)"
      ],
      "metadata": {
        "colab": {
          "base_uri": "https://localhost:8080/"
        },
        "id": "TNXkPhwyUqYg",
        "outputId": "64617551-c3d5-4b14-80ab-a004883d89cf"
      },
      "execution_count": 5,
      "outputs": [
        {
          "output_type": "stream",
          "name": "stdout",
          "text": [
            "[[0.         0.5       ]\n",
            " [0.33333333 0.        ]\n",
            " [0.66666667 0.25      ]\n",
            " [1.         1.        ]]\n"
          ]
        }
      ]
    },
    {
      "cell_type": "code",
      "source": [
        "print(sd.min())\n",
        "print(sd.max())"
      ],
      "metadata": {
        "colab": {
          "base_uri": "https://localhost:8080/"
        },
        "id": "ZYRUnhpsWJ0h",
        "outputId": "5a3c70ab-6bd7-4cb7-b47d-274ae30640b4"
      },
      "execution_count": 6,
      "outputs": [
        {
          "output_type": "stream",
          "name": "stdout",
          "text": [
            "0.0\n",
            "1.0\n"
          ]
        }
      ]
    }
  ]
}