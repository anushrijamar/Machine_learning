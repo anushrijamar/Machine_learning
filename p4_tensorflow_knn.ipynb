{
  "nbformat": 4,
  "nbformat_minor": 0,
  "metadata": {
    "colab": {
      "provenance": [],
      "authorship_tag": "ABX9TyPPA64okDZnlDOBFp+7b27F",
      "include_colab_link": true
    },
    "kernelspec": {
      "name": "python3",
      "display_name": "Python 3"
    },
    "language_info": {
      "name": "python"
    }
  },
  "cells": [
    {
      "cell_type": "markdown",
      "metadata": {
        "id": "view-in-github",
        "colab_type": "text"
      },
      "source": [
        "<a href=\"https://colab.research.google.com/github/anushrijamar/Machine_learning/blob/main/p4_tensorflow_knn.ipynb\" target=\"_parent\"><img src=\"https://colab.research.google.com/assets/colab-badge.svg\" alt=\"Open In Colab\"/></a>"
      ]
    },
    {
      "cell_type": "code",
      "execution_count": null,
      "metadata": {
        "id": "T6BaPn9rXkA9"
      },
      "outputs": [],
      "source": [
        "import tensorflow as tf\n",
        "from sklearn.model_selection import train_test_split\n",
        "import numpy as np\n",
        "import pandas as pd\n"
      ]
    },
    {
      "cell_type": "code",
      "source": [
        "from sklearn.datasets import load_iris\n",
        "df=load_iris()\n",
        "# print(df)\n",
        "x=df.data\n",
        "# print(x)\n",
        "y=df.target\n",
        "# print(y)\n",
        "x_train, x_test, y_train, y_test = train_test_split(x, y, test_size=0.25, random_state=24)\n",
        "x_train_n = tf.keras.utils.normalize(x_train, axis=1)\n",
        "x_test_n = tf.keras.utils.normalize(x_test, axis=1)"
      ],
      "metadata": {
        "id": "Y5qodPG8Y_qF"
      },
      "execution_count": null,
      "outputs": []
    },
    {
      "cell_type": "code",
      "source": [
        "k = 3\n",
        "distances = tf.norm(tf.expand_dims(x_test_n, axis=1) - x_train_n, axis=-1, ord='euclidean')\n",
        "top_k_indices = tf.argsort(distances, axis=1)[:, :k]\n",
        "tf.compat.v1.disable_eager_execution()\n",
        "# Create a TensorFlow session\n",
        "with tf.compat.v1.Session() as sess:\n",
        "    top_k_indices = sess.run(top_k_indices)\n",
        "\n",
        "# Convert top_k_indices to a NumPy array for further processing\n",
        "top_k_indices = np.array(top_k_indices)"
      ],
      "metadata": {
        "id": "z75yKAD2aGUI"
      },
      "execution_count": null,
      "outputs": []
    },
    {
      "cell_type": "code",
      "source": [
        "from sklearn.metrics import accuracy_score\n",
        "y_pred = [np.argmax(np.bincount(y_train[i])) for i in top_k_indices]\n",
        "# Calculate the accuracy\n",
        "accuracy = accuracy_score(y_test, y_pred)\n",
        "print(\"Accuracy:\", accuracy)"
      ],
      "metadata": {
        "colab": {
          "base_uri": "https://localhost:8080/"
        },
        "id": "S16jKOIG6NfZ",
        "outputId": "d6f543ae-69b8-4c0e-b7af-dfff2197711f"
      },
      "execution_count": null,
      "outputs": [
        {
          "output_type": "stream",
          "name": "stdout",
          "text": [
            "Accuracy: 0.9736842105263158\n"
          ]
        }
      ]
    },
    {
      "cell_type": "code",
      "source": [],
      "metadata": {
        "id": "NvHDIfB79RUt"
      },
      "execution_count": null,
      "outputs": []
    }
  ]
}