{
  "nbformat": 4,
  "nbformat_minor": 0,
  "metadata": {
    "colab": {
      "provenance": [],
      "authorship_tag": "ABX9TyMRWA04neOVAhsDJUiVVsjz",
      "include_colab_link": true
    },
    "kernelspec": {
      "name": "python3",
      "display_name": "Python 3"
    },
    "language_info": {
      "name": "python"
    }
  },
  "cells": [
    {
      "cell_type": "markdown",
      "metadata": {
        "id": "view-in-github",
        "colab_type": "text"
      },
      "source": [
        "<a href=\"https://colab.research.google.com/github/anushrijamar/Machine_learning/blob/main/tensorflow_p4_kmeans.ipynb\" target=\"_parent\"><img src=\"https://colab.research.google.com/assets/colab-badge.svg\" alt=\"Open In Colab\"/></a>"
      ]
    },
    {
      "cell_type": "code",
      "execution_count": 2,
      "metadata": {
        "id": "5PvQSI-mGJAS",
        "colab": {
          "base_uri": "https://localhost:8080/"
        },
        "outputId": "aff1d7f1-27db-432b-cd28-f32c157a7139"
      },
      "outputs": [
        {
          "output_type": "stream",
          "name": "stdout",
          "text": [
            "Data point 0 belongs to cluster 1\n",
            "Data point 1 belongs to cluster 3\n",
            "Data point 2 belongs to cluster 2\n",
            "Data point 3 belongs to cluster 2\n",
            "Data point 4 belongs to cluster 2\n",
            "Data point 5 belongs to cluster 2\n",
            "Data point 6 belongs to cluster 3\n",
            "Data point 7 belongs to cluster 2\n",
            "Cluster 1 Center: 2.0 10.0\n",
            "Cluster 2 Center: 6.0 6.0\n",
            "Cluster 3 Center: 1.5 3.5\n"
          ]
        }
      ],
      "source": [
        "import tensorflow as tf\n",
        "import numpy as np\n",
        "\n",
        "x = tf.constant([2, 2, 8, 5, 7, 6, 1, 4], dtype=tf.float32)\n",
        "y = tf.constant([10, 5, 4, 8, 5, 4, 2, 9], dtype=tf.float32)\n",
        "inti = tf.constant([2, 5, 1], dtype=tf.float32)\n",
        "inti_y = tf.constant([10, 8, 2], dtype=tf.float32)\n",
        "cx = []\n",
        "c1 = 0\n",
        "c2 = 0\n",
        "c3 = 0\n",
        "cl_x = 0\n",
        "cl_y = 0\n",
        "cl_x2 = 0\n",
        "cl_y2 = 0\n",
        "cl_x3 = 0\n",
        "cl_y3 = 0\n",
        "\n",
        "tf.compat.v1.disable_eager_execution()\n",
        "\n",
        "with tf.compat.v1.Session() as sess:\n",
        "    for j in range(8):\n",
        "        for i in range(3):\n",
        "            diff = x[j] - inti[i]\n",
        "            diff_y = y[j] - inti_y[i]\n",
        "            sq = tf.square(diff)\n",
        "            sq1 = tf.square(diff_y)\n",
        "            distance = tf.sqrt(sq + sq1)\n",
        "            distance = sess.run(distance)\n",
        "            cx.append(distance)\n",
        "\n",
        "        min = np.argmin(cx)\n",
        "        cx = []\n",
        "        print(f\"Data point {j} belongs to cluster {min + 1}\")\n",
        "        if min == 0:\n",
        "            c1 = c1 + 1\n",
        "            cl_x = cl_x * (c1 - 1) + x[j]\n",
        "            cl_y = cl_y * (c1 - 1) + y[j]\n",
        "            cl_x = cl_x / c1\n",
        "            cl_y = cl_y / c1\n",
        "        elif min == 1:\n",
        "            c2 = c2 + 1\n",
        "            cl_x2 = cl_x2 * (c2 - 1) + x[j]\n",
        "            cl_y2 = cl_y2 * (c2 - 1) + y[j]\n",
        "            cl_x2 = cl_x2 / c2\n",
        "            cl_y2 = cl_y2 / c2\n",
        "        else:\n",
        "            c3 = c3 + 1\n",
        "            cl_x3 = cl_x3 * (c3 - 1) + x[j]\n",
        "            cl_y3 = cl_y3 * (c3 - 1) + y[j]\n",
        "            cl_x3 = cl_x3 / c3\n",
        "            cl_y3 = cl_y3 / c3\n",
        "\n",
        "    final_cl_x = sess.run(cl_x)\n",
        "    final_cl_y = sess.run(cl_y)\n",
        "    final_cl_x2 = sess.run(cl_x2)\n",
        "    final_cl_y2 = sess.run(cl_y2)\n",
        "    final_cl_x3 = sess.run(cl_x3)\n",
        "    final_cl_y3 = sess.run(cl_y3)\n",
        "\n",
        "print(\"Cluster 1 Center:\", final_cl_x, final_cl_y)\n",
        "print(\"Cluster 2 Center:\", final_cl_x2, final_cl_y2)\n",
        "print(\"Cluster 3 Center:\", final_cl_x3, final_cl_y3)\n"
      ]
    }
  ]
}