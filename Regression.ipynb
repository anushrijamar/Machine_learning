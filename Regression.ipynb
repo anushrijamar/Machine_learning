{
  "nbformat": 4,
  "nbformat_minor": 0,
  "metadata": {
    "colab": {
      "provenance": [],
      "authorship_tag": "ABX9TyN1yhmLakx8f8JBJleTj1wm",
      "include_colab_link": true
    },
    "kernelspec": {
      "name": "python3",
      "display_name": "Python 3"
    },
    "language_info": {
      "name": "python"
    }
  },
  "cells": [
    {
      "cell_type": "markdown",
      "metadata": {
        "id": "view-in-github",
        "colab_type": "text"
      },
      "source": [
        "<a href=\"https://colab.research.google.com/github/anushrijamar/Machine_learning/blob/main/Regression.ipynb\" target=\"_parent\"><img src=\"https://colab.research.google.com/assets/colab-badge.svg\" alt=\"Open In Colab\"/></a>"
      ]
    },
    {
      "cell_type": "code",
      "execution_count": 1,
      "metadata": {
        "id": "tEHLjyCfhPDv"
      },
      "outputs": [],
      "source": [
        "import numpy as np"
      ]
    },
    {
      "cell_type": "code",
      "source": [],
      "metadata": {
        "id": "0_-K-nQBq62W"
      },
      "execution_count": null,
      "outputs": []
    },
    {
      "cell_type": "code",
      "source": [
        "x=([34.86,42.58,71.73,110.77])\n",
        "y=([43.04,51.88,88.55,130.69])\n",
        "print(x)\n",
        "print(y)"
      ],
      "metadata": {
        "colab": {
          "base_uri": "https://localhost:8080/"
        },
        "id": "Cx2Q37G4hWE7",
        "outputId": "160dc8bb-0663-484d-e38f-9353c1ad324e"
      },
      "execution_count": 2,
      "outputs": [
        {
          "output_type": "stream",
          "name": "stdout",
          "text": [
            "[34.86, 42.58, 71.73, 110.77]\n",
            "[43.04, 51.88, 88.55, 130.69]\n"
          ]
        }
      ]
    },
    {
      "cell_type": "code",
      "source": [
        "sumx=0\n",
        "for i in range(0,len(x)):\n",
        "    sumx=sumx+x[i]\n",
        "\n",
        "print(float(sumx))"
      ],
      "metadata": {
        "colab": {
          "base_uri": "https://localhost:8080/"
        },
        "id": "NQl2BB6MhxDD",
        "outputId": "b31fb544-16e4-4c0c-87be-8be77f0018b6"
      },
      "execution_count": 3,
      "outputs": [
        {
          "output_type": "stream",
          "name": "stdout",
          "text": [
            "259.94\n"
          ]
        }
      ]
    },
    {
      "cell_type": "code",
      "source": [
        "sumy=0\n",
        "for i in range(0,len(y)):\n",
        "    sumy=sumy+y[i]\n",
        "print(sumy)"
      ],
      "metadata": {
        "colab": {
          "base_uri": "https://localhost:8080/"
        },
        "id": "xh8tZSDpjOeU",
        "outputId": "7dd3e611-b05b-46c0-dee3-6b07639fd078"
      },
      "execution_count": 4,
      "outputs": [
        {
          "output_type": "stream",
          "name": "stdout",
          "text": [
            "314.15999999999997\n"
          ]
        }
      ]
    },
    {
      "cell_type": "code",
      "source": [
        "sumxy=0\n",
        "for i in range(0,len(y)):\n",
        "    sumxy=sumxy+(x[i]*y[i])\n",
        "print(sumxy)"
      ],
      "metadata": {
        "colab": {
          "base_uri": "https://localhost:8080/"
        },
        "id": "Q9L6-tm_jn1C",
        "outputId": "3f8df2e5-de1f-4002-9855-000ef311dd27"
      },
      "execution_count": 5,
      "outputs": [
        {
          "output_type": "stream",
          "name": "stdout",
          "text": [
            "24537.647599999997\n"
          ]
        }
      ]
    },
    {
      "cell_type": "code",
      "source": [
        "meanx=sumx/len(x)**2\n",
        "meany=sumy/len(y)**2\n",
        "print(meanx)\n",
        "print(meany)"
      ],
      "metadata": {
        "colab": {
          "base_uri": "https://localhost:8080/"
        },
        "id": "BLGQdIQ8kAoj",
        "outputId": "6255ff37-3c5d-426e-f04a-e882eadba637"
      },
      "execution_count": 6,
      "outputs": [
        {
          "output_type": "stream",
          "name": "stdout",
          "text": [
            "16.24625\n",
            "19.634999999999998\n"
          ]
        }
      ]
    },
    {
      "cell_type": "code",
      "source": [
        "sumxsq=0\n",
        "for i in range(0,len(x)):\n",
        "    sumxsq=sumxsq+x[i]**2\n",
        "\n",
        "print(sumxsq)"
      ],
      "metadata": {
        "colab": {
          "base_uri": "https://localhost:8080/"
        },
        "id": "lUyKfux5lDjs",
        "outputId": "86c2e56f-09bb-4f7f-8a5e-5740d3853f29"
      },
      "execution_count": 7,
      "outputs": [
        {
          "output_type": "stream",
          "name": "stdout",
          "text": [
            "20443.4618\n"
          ]
        }
      ]
    },
    {
      "cell_type": "code",
      "source": [
        "b=(sumxy-(len(x)*meanx*meany))/(sumxsq-(len(x)*meanx**2))\n",
        "print(b)"
      ],
      "metadata": {
        "colab": {
          "base_uri": "https://localhost:8080/"
        },
        "id": "N93LcykUlMDz",
        "outputId": "9cf9184a-94cb-41c2-e76c-b7304338cc0d"
      },
      "execution_count": 8,
      "outputs": [
        {
          "output_type": "stream",
          "name": "stdout",
          "text": [
            "1.1998157611455027\n"
          ]
        }
      ]
    },
    {
      "cell_type": "code",
      "source": [
        "a=meany-(b*meanx)\n",
        "print(a)\n"
      ],
      "metadata": {
        "colab": {
          "base_uri": "https://localhost:8080/"
        },
        "id": "-7sFaqVRlftz",
        "outputId": "5c7e0c3b-1382-44bc-c517-89c7c40ea47d"
      },
      "execution_count": 9,
      "outputs": [
        {
          "output_type": "stream",
          "name": "stdout",
          "text": [
            "0.1424931904898763\n"
          ]
        }
      ]
    },
    {
      "cell_type": "code",
      "source": [
        "xval=float(input(\"Enter the predicted value\"))\n",
        "yval=a+(b*xval)\n",
        "print(yval)"
      ],
      "metadata": {
        "colab": {
          "base_uri": "https://localhost:8080/"
        },
        "id": "bzEEzxx9l5oU",
        "outputId": "45185ef0-12dc-4184-8f66-f810b5c8a29d"
      },
      "execution_count": 10,
      "outputs": [
        {
          "output_type": "stream",
          "name": "stdout",
          "text": [
            "Enter the predicted value40\n",
            "48.135123636309984\n"
          ]
        }
      ]
    }
  ]
}