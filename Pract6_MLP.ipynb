{
  "nbformat": 4,
  "nbformat_minor": 0,
  "metadata": {
    "colab": {
      "provenance": [],
      "authorship_tag": "ABX9TyPXdXO4C39HtrpADmzWQK3f",
      "include_colab_link": true
    },
    "kernelspec": {
      "name": "python3",
      "display_name": "Python 3"
    },
    "language_info": {
      "name": "python"
    }
  },
  "cells": [
    {
      "cell_type": "markdown",
      "metadata": {
        "id": "view-in-github",
        "colab_type": "text"
      },
      "source": [
        "<a href=\"https://colab.research.google.com/github/anushrijamar/Machine_learning/blob/main/Pract6_MLP.ipynb\" target=\"_parent\"><img src=\"https://colab.research.google.com/assets/colab-badge.svg\" alt=\"Open In Colab\"/></a>"
      ]
    },
    {
      "cell_type": "code",
      "execution_count": 2,
      "metadata": {
        "id": "vvd1U1ukpeNp"
      },
      "outputs": [],
      "source": [
        "import tensorflow as tf\n",
        "#mnist is the datset\n",
        "from tensorflow.keras.datasets import mnist\n",
        "#Sequential allows a sequential model\n",
        "from tensorflow.keras.models import Sequential\n",
        "#flatten and dense represnt the layer in nueral network\n",
        "from tensorflow.keras.layers import Flatten, Dense\n",
        "from tensorflow.keras.utils import to_categorical"
      ]
    },
    {
      "cell_type": "code",
      "source": [
        "(x_train, y_train), (x_test, y_test) = mnist.load_data()\n",
        "from sklearn.model_selection import train_test_split\n",
        "x_train,x_test,y_train,y_test=train_test_split(x_train,y_train,test_size=0.25,random_state=21)"
      ],
      "metadata": {
        "id": "-lDHqYdi2qGe"
      },
      "execution_count": 18,
      "outputs": []
    },
    {
      "cell_type": "code",
      "source": [
        "#bringing all the data to one resolution\n",
        "x_train, x_test = x_train /255.0 , x_test/255.0\n",
        "#images are in 2 d so need to bring in 1d since nueral network accepts it only\n",
        "x_train=x_train.reshape(x_train.shape[0],-1)\n",
        "x_test=x_test.reshape(x_test.shape[0],-1)"
      ],
      "metadata": {
        "id": "rt5L7mP727_9"
      },
      "execution_count": 19,
      "outputs": []
    },
    {
      "cell_type": "code",
      "source": [
        "y_train=to_categorical(y_train,num_classes=10)\n",
        "y_test=to_categorical(y_test,num_classes=10)"
      ],
      "metadata": {
        "id": "s0cTzefO3urj"
      },
      "execution_count": 20,
      "outputs": []
    },
    {
      "cell_type": "code",
      "source": [
        "model=Sequential([Flatten (input_shape=(784,)),\n",
        "                  Dense(128,activation='relu'),\n",
        "                  Dense(64,activation='relu'),\n",
        "                  Dense(10,activation='softmax')])"
      ],
      "metadata": {
        "id": "DKoJCC914i0T"
      },
      "execution_count": 21,
      "outputs": []
    },
    {
      "cell_type": "code",
      "source": [
        "model.compile(optimizer='adam',\n",
        "              loss='categorical_crossentropy',\n",
        "              metrics=['accuracy'])"
      ],
      "metadata": {
        "id": "RacSd0He5L74"
      },
      "execution_count": 22,
      "outputs": []
    },
    {
      "cell_type": "code",
      "source": [
        "model.fit(x_train, y_train, epochs=5, verbose=1)"
      ],
      "metadata": {
        "colab": {
          "base_uri": "https://localhost:8080/"
        },
        "id": "hBNROtte5Z2u",
        "outputId": "917bb45e-bd0c-4573-874a-0a41aaecfd01"
      },
      "execution_count": 23,
      "outputs": [
        {
          "output_type": "stream",
          "name": "stdout",
          "text": [
            "Epoch 1/5\n",
            "1407/1407 [==============================] - 9s 6ms/step - loss: 0.2706 - accuracy: 0.9207\n",
            "Epoch 2/5\n",
            "1407/1407 [==============================] - 8s 5ms/step - loss: 0.1120 - accuracy: 0.9660\n",
            "Epoch 3/5\n",
            "1407/1407 [==============================] - 7s 5ms/step - loss: 0.0753 - accuracy: 0.9767\n",
            "Epoch 4/5\n",
            "1407/1407 [==============================] - 10s 7ms/step - loss: 0.0573 - accuracy: 0.9813\n",
            "Epoch 5/5\n",
            "1407/1407 [==============================] - 11s 8ms/step - loss: 0.0440 - accuracy: 0.9854\n"
          ]
        },
        {
          "output_type": "execute_result",
          "data": {
            "text/plain": [
              "<keras.src.callbacks.History at 0x7b1082d27eb0>"
            ]
          },
          "metadata": {},
          "execution_count": 23
        }
      ]
    },
    {
      "cell_type": "code",
      "source": [
        "test_loss,test_accuracy=model.evaluate(x_test,y_test,verbose=0)\n",
        "print(test_accuracy)"
      ],
      "metadata": {
        "colab": {
          "base_uri": "https://localhost:8080/"
        },
        "id": "SJDJGblV65Pm",
        "outputId": "13e633c5-4d9d-4713-defb-1cab93bd1b26"
      },
      "execution_count": 25,
      "outputs": [
        {
          "output_type": "stream",
          "name": "stdout",
          "text": [
            "0.9709333181381226\n"
          ]
        }
      ]
    }
  ]
}